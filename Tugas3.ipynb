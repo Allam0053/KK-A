{
  "nbformat": 4,
  "nbformat_minor": 0,
  "metadata": {
    "colab": {
      "name": "Tugas3.ipynb",
      "provenance": [],
      "collapsed_sections": []
    },
    "kernelspec": {
      "name": "python3",
      "display_name": "Python 3"
    }
  },
  "cells": [
    {
      "cell_type": "markdown",
      "metadata": {
        "id": "cvLX8WAI2XoX"
      },
      "source": [
        "Decision Tree"
      ]
    },
    {
      "cell_type": "code",
      "metadata": {
        "id": "meBkwCxh2dPf",
        "outputId": "5a1a8ab6-847a-4826-969c-0afa15f050b1",
        "colab": {
          "resources": {
            "http://localhost:8080/nbextensions/google.colab/files.js": {
              "data": "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",
              "ok": true,
              "headers": [
                [
                  "content-type",
                  "application/javascript"
                ]
              ],
              "status": 200,
              "status_text": ""
            }
          },
          "base_uri": "https://localhost:8080/",
          "height": 72
        }
      },
      "source": [
        "from google.colab import files\n",
        "uploaded = files.upload()"
      ],
      "execution_count": null,
      "outputs": [
        {
          "output_type": "display_data",
          "data": {
            "text/html": [
              "\n",
              "     <input type=\"file\" id=\"files-d4f08637-a29f-4e2b-b9be-d2bb7813446c\" name=\"files[]\" multiple disabled\n",
              "        style=\"border:none\" />\n",
              "     <output id=\"result-d4f08637-a29f-4e2b-b9be-d2bb7813446c\">\n",
              "      Upload widget is only available when the cell has been executed in the\n",
              "      current browser session. Please rerun this cell to enable.\n",
              "      </output>\n",
              "      <script src=\"/nbextensions/google.colab/files.js\"></script> "
            ],
            "text/plain": [
              "<IPython.core.display.HTML object>"
            ]
          },
          "metadata": {
            "tags": []
          }
        },
        {
          "output_type": "stream",
          "text": [
            "Saving pelatihan.csv to pelatihan.csv\n"
          ],
          "name": "stdout"
        }
      ]
    },
    {
      "cell_type": "code",
      "metadata": {
        "id": "2tiIIErE4qnL",
        "outputId": "56f7a265-d763-4489-8d14-56a51febb807",
        "colab": {
          "base_uri": "https://localhost:8080/",
          "height": 483
        }
      },
      "source": [
        "import pandas as pd \n",
        "data = pd.read_csv(\"pelatihan.csv\",delimiter=';') \n",
        "data.rename(columns={'House Type':'House_type'}, inplace=True)\n",
        "data \n",
        "# data[(data.House_type == 'Terrace')]"
      ],
      "execution_count": null,
      "outputs": [
        {
          "output_type": "execute_result",
          "data": {
            "text/html": [
              "<div>\n",
              "<style scoped>\n",
              "    .dataframe tbody tr th:only-of-type {\n",
              "        vertical-align: middle;\n",
              "    }\n",
              "\n",
              "    .dataframe tbody tr th {\n",
              "        vertical-align: top;\n",
              "    }\n",
              "\n",
              "    .dataframe thead th {\n",
              "        text-align: right;\n",
              "    }\n",
              "</style>\n",
              "<table border=\"1\" class=\"dataframe\">\n",
              "  <thead>\n",
              "    <tr style=\"text-align: right;\">\n",
              "      <th></th>\n",
              "      <th>District</th>\n",
              "      <th>House_type</th>\n",
              "      <th>Income</th>\n",
              "      <th>Customer</th>\n",
              "      <th>Class</th>\n",
              "    </tr>\n",
              "  </thead>\n",
              "  <tbody>\n",
              "    <tr>\n",
              "      <th>0</th>\n",
              "      <td>Suburban</td>\n",
              "      <td>Detached</td>\n",
              "      <td>High</td>\n",
              "      <td>No</td>\n",
              "      <td>Nothing</td>\n",
              "    </tr>\n",
              "    <tr>\n",
              "      <th>1</th>\n",
              "      <td>Suburban</td>\n",
              "      <td>Detached</td>\n",
              "      <td>High</td>\n",
              "      <td>Yes</td>\n",
              "      <td>Nothing</td>\n",
              "    </tr>\n",
              "    <tr>\n",
              "      <th>2</th>\n",
              "      <td>Rural</td>\n",
              "      <td>Detached</td>\n",
              "      <td>High</td>\n",
              "      <td>No</td>\n",
              "      <td>Responded</td>\n",
              "    </tr>\n",
              "    <tr>\n",
              "      <th>3</th>\n",
              "      <td>Urban</td>\n",
              "      <td>Semi-detached</td>\n",
              "      <td>High</td>\n",
              "      <td>No</td>\n",
              "      <td>Responded</td>\n",
              "    </tr>\n",
              "    <tr>\n",
              "      <th>4</th>\n",
              "      <td>Urban</td>\n",
              "      <td>Semi-detached</td>\n",
              "      <td>Low</td>\n",
              "      <td>No</td>\n",
              "      <td>Responded</td>\n",
              "    </tr>\n",
              "    <tr>\n",
              "      <th>5</th>\n",
              "      <td>Urban</td>\n",
              "      <td>Semi-detached</td>\n",
              "      <td>Low</td>\n",
              "      <td>Yes</td>\n",
              "      <td>Nothing</td>\n",
              "    </tr>\n",
              "    <tr>\n",
              "      <th>6</th>\n",
              "      <td>Rural</td>\n",
              "      <td>Semi-detached</td>\n",
              "      <td>Low</td>\n",
              "      <td>Yes</td>\n",
              "      <td>Responded</td>\n",
              "    </tr>\n",
              "    <tr>\n",
              "      <th>7</th>\n",
              "      <td>Suburban</td>\n",
              "      <td>Terrace</td>\n",
              "      <td>High</td>\n",
              "      <td>No</td>\n",
              "      <td>Nothing</td>\n",
              "    </tr>\n",
              "    <tr>\n",
              "      <th>8</th>\n",
              "      <td>Suburban</td>\n",
              "      <td>Semi-detached</td>\n",
              "      <td>Low</td>\n",
              "      <td>No</td>\n",
              "      <td>Responded</td>\n",
              "    </tr>\n",
              "    <tr>\n",
              "      <th>9</th>\n",
              "      <td>Urban</td>\n",
              "      <td>Terrace</td>\n",
              "      <td>Low</td>\n",
              "      <td>No</td>\n",
              "      <td>Responded</td>\n",
              "    </tr>\n",
              "    <tr>\n",
              "      <th>10</th>\n",
              "      <td>Suburban</td>\n",
              "      <td>Terrace</td>\n",
              "      <td>Low</td>\n",
              "      <td>Yes</td>\n",
              "      <td>Responded</td>\n",
              "    </tr>\n",
              "    <tr>\n",
              "      <th>11</th>\n",
              "      <td>Rural</td>\n",
              "      <td>Terrace</td>\n",
              "      <td>High</td>\n",
              "      <td>Yes</td>\n",
              "      <td>Responded</td>\n",
              "    </tr>\n",
              "    <tr>\n",
              "      <th>12</th>\n",
              "      <td>Rural</td>\n",
              "      <td>Detached</td>\n",
              "      <td>Low</td>\n",
              "      <td>No</td>\n",
              "      <td>Responded</td>\n",
              "    </tr>\n",
              "    <tr>\n",
              "      <th>13</th>\n",
              "      <td>Urban</td>\n",
              "      <td>Terrace</td>\n",
              "      <td>High</td>\n",
              "      <td>Yes</td>\n",
              "      <td>Nothing</td>\n",
              "    </tr>\n",
              "  </tbody>\n",
              "</table>\n",
              "</div>"
            ],
            "text/plain": [
              "    District     House_type Income Customer      Class\n",
              "0   Suburban       Detached   High       No    Nothing\n",
              "1   Suburban       Detached   High      Yes    Nothing\n",
              "2      Rural       Detached   High       No  Responded\n",
              "3      Urban  Semi-detached   High       No  Responded\n",
              "4      Urban  Semi-detached    Low       No  Responded\n",
              "5      Urban  Semi-detached    Low      Yes    Nothing\n",
              "6      Rural  Semi-detached    Low      Yes  Responded\n",
              "7   Suburban        Terrace   High       No    Nothing\n",
              "8   Suburban  Semi-detached    Low       No  Responded\n",
              "9      Urban        Terrace    Low       No  Responded\n",
              "10  Suburban        Terrace    Low      Yes  Responded\n",
              "11     Rural        Terrace   High      Yes  Responded\n",
              "12     Rural       Detached    Low       No  Responded\n",
              "13     Urban        Terrace   High      Yes    Nothing"
            ]
          },
          "metadata": {
            "tags": []
          },
          "execution_count": 122
        }
      ]
    },
    {
      "cell_type": "code",
      "metadata": {
        "id": "zprGA0xjRtty",
        "outputId": "c357a3cd-19ef-49de-b274-f81521a7caff",
        "colab": {
          "base_uri": "https://localhost:8080/"
        }
      },
      "source": [
        "# Gain Income\n",
        "import math\n",
        "\n",
        "entropy = -((9/14)*math.log2(9/14))-((5/14)*math.log2(5/14))\n",
        "# print(entropy) \n",
        "\n",
        "Shigh = data[(data.Income == 'Detached')][['Class']]['Class'].count()\n",
        "Slow = data[(data.Income == 'Semi-detached')][['Class']]['Class'].count()\n",
        "# print(Ss, Sr, Su)\n",
        "\n",
        "# Menentukan Detached\n",
        "# sub_tot = Ss\n",
        "high_y = data[(data.Income == 'Detached') & (data.Class == 'Responded')][['Class']]['Class'].count()\n",
        "high_n = data[(data.Income == 'Detached') & (data.Class == 'Nothing')][['Class']]['Class'].count()\n",
        "\n",
        "# Menentukan Semi-detached\n",
        "low_y = data[(data.Income == 'Semi-detached') & (data.Class == 'Responded')][['Class']]['Class'].count()\n",
        "low_n = data[(data.Income == 'Semi-detached') & (data.Class == 'Nothing')][['Class']]['Class'].count()\n",
        "\n",
        "# Hitung nilai entropy masing-masing\n",
        "eHigh = -((high_y/Shigh)*math.log2(high_y/Shigh))-((high_n/Shigh)*math.log2(high_n/Shigh))\n",
        "eLow = -((low_y/Slow)*math.log2(low_y/Slow))-((low_n/Slow)*math.log2(low_n/Slow))\n",
        "\n",
        "\n",
        "# print(eS,eU)\n",
        "# menentukan gain\n",
        "gain_income = entropy - ( (Shigh/14*eHigh) + (Slow/14*eLow) )\n",
        "print(\"Nilai gain :\",gain_income)"
      ],
      "execution_count": null,
      "outputs": [
        {
          "output_type": "stream",
          "text": [
            "Nilai gain : nan\n"
          ],
          "name": "stdout"
        },
        {
          "output_type": "stream",
          "text": [
            "/usr/local/lib/python3.6/dist-packages/ipykernel_launcher.py:21: RuntimeWarning: invalid value encountered in long_scalars\n",
            "/usr/local/lib/python3.6/dist-packages/ipykernel_launcher.py:22: RuntimeWarning: invalid value encountered in long_scalars\n"
          ],
          "name": "stderr"
        }
      ]
    },
    {
      "cell_type": "code",
      "metadata": {
        "id": "UOe1PKTyPRWI",
        "outputId": "e559b9c9-288e-4c0f-f97e-3afcb0e80aa5",
        "colab": {
          "base_uri": "https://localhost:8080/"
        }
      },
      "source": [
        "# Gain House_type\n",
        "import math\n",
        "\n",
        "entropy_House = -((9/14)*math.log2(9/14))-((5/14)*math.log2(5/14))\n",
        "# print(entropy_House) \n",
        "\n",
        "Sdet = data[(data.House_type == 'Detached')][['Class']]['Class'].count()\n",
        "Ssem = data[(data.House_type == 'Semi-detached')][['Class']]['Class'].count()\n",
        "Sterr = data[(data.House_type == 'Terrace')][['Class']]['Class'].count()\n",
        "# print(Ss, Sr, Su)\n",
        "\n",
        "# Menentukan Detached\n",
        "# sub_tot = Ss\n",
        "det_y = data[(data.House_type == 'Detached') & (data.Class == 'Responded')][['Class']]['Class'].count()\n",
        "det_n = data[(data.House_type == 'Detached') & (data.Class == 'Nothing')][['Class']]['Class'].count()\n",
        "\n",
        "# Menentukan Semi-detached\n",
        "semi_y = data[(data.House_type == 'Semi-detached') & (data.Class == 'Responded')][['Class']]['Class'].count()\n",
        "semi_n = data[(data.House_type == 'Semi-detached') & (data.Class == 'Nothing')][['Class']]['Class'].count()\n",
        "\n",
        "# Menentukan Terrace\n",
        "terr_y = data[(data.House_type == 'Terrace') & (data.Class == 'Responded')][['Class']]['Class'].count()\n",
        "terr_n = data[(data.House_type == 'Terrace') & (data.Class == 'Nothing')][['Class']]['Class'].count()\n",
        "\n",
        "# Hitung nilai entropy masing-masing\n",
        "eDet = -((det_y/Sdet)*math.log2(det_y/Sdet))-((det_n/Sdet)*math.log2(det_n/Sdet))\n",
        "eSemi = -((semi_y/Ssem)*math.log2(semi_y/Ssem))-((semi_n/Ssem)*math.log2(semi_n/Ssem))\n",
        "# eR = 0\n",
        "eTerr = -((terr_y/Sterr)*math.log2(terr_y/Sterr))-((terr_n/Sterr)*math.log2(terr_n/Sterr))\n",
        "\n",
        "# print(eS,eU)\n",
        "# menentukan gain\n",
        "gain_House = entropy_House - ( (Sdet/14*eDet) + (Ssem/14*eSemi) + (Sterr/14*eTerr) )\n",
        "print(\"Nilai gain :\",gain_House)"
      ],
      "execution_count": null,
      "outputs": [
        {
          "output_type": "stream",
          "text": [
            "Nilai gain : 0.049972141048477026\n"
          ],
          "name": "stdout"
        }
      ]
    },
    {
      "cell_type": "code",
      "metadata": {
        "id": "WMq3tDVF6OnT",
        "outputId": "b28a980c-9808-4b2b-cf6a-ff2db8e90100",
        "colab": {
          "base_uri": "https://localhost:8080/"
        }
      },
      "source": [
        "# Gain District\n",
        "import math\n",
        "\n",
        "entropy = -((9/14)*math.log2(9/14))-((5/14)*math.log2(5/14))\n",
        "# print(entropy) \n",
        "\n",
        "Ss = data[(data.District == 'Suburban')][['Class']]['Class'].count()\n",
        "Sr = data[(data.District == 'Rural')][['Class']]['Class'].count()\n",
        "Su = data[(data.District == 'Urban')][['Class']]['Class'].count()\n",
        "# print(Ss, Sr, Su)\n",
        "\n",
        "# Menentukan suburban\n",
        "# sub_tot = Ss\n",
        "sub_y = data[(data.District == 'Suburban') & (data.Class == 'Responded')][['Class']]['Class'].count()\n",
        "sub_n = data[(data.District == 'Suburban') & (data.Class == 'Nothing')][['Class']]['Class'].count()\n",
        "\n",
        "# Menentukan rural\n",
        "rura_y = data[(data.District == 'Rural') & (data.Class == 'Responded')][['Class']]['Class'].count()\n",
        "rura_n = data[(data.District == 'Rural') & (data.Class == 'Nothing')][['Class']]['Class'].count()\n",
        "\n",
        "# Menentukan urban\n",
        "urb_y = data[(data.District == 'Urban') & (data.Class == 'Responded')][['Class']]['Class'].count()\n",
        "urb_n = data[(data.District == 'Urban') & (data.Class == 'Nothing')][['Class']]['Class'].count()\n",
        "\n",
        "# Hitung nilai entropy masing-masing\n",
        "eS = -((sub_y/Ss)*math.log2(sub_y/Ss))-((sub_n/Ss)*math.log2(sub_n/Ss))\n",
        "# eR = -((rura_y/Sr)*math.log2(rura_y/Sr))-((rura_n/Sr)*math.log2(rura_n/Sr))\n",
        "eR = 0\n",
        "eU = -((urb_y/Su)*math.log2(urb_y/Su))-((urb_n/Su)*math.log2(urb_n/Su))\n",
        "\n",
        "# print(eS,eU)\n",
        "# menentukan gain\n",
        "gain = entropy - ( (Ss/14*eS) + (Sr/14*eR) + (Su/14*eU) )\n",
        "print(\"Nilai gain :\",gain)"
      ],
      "execution_count": null,
      "outputs": [
        {
          "output_type": "stream",
          "text": [
            "Nilai gain : 0.2467498197744391\n"
          ],
          "name": "stdout"
        }
      ]
    },
    {
      "cell_type": "markdown",
      "metadata": {
        "id": "ePMlyuDelvvW"
      },
      "source": [
        "<h4> Try Assignment 3 : Sprinkler Control System (Sistem Penyiraman/Irigasi) </h4>\n",
        "Muhammad Afif Fadhlurrahman <br>\n",
        "05111840000093"
      ]
    },
    {
      "cell_type": "code",
      "metadata": {
        "id": "RgoYnfvHlMMN",
        "outputId": "fa515206-882f-4ef5-e385-5cdcba2a9170",
        "colab": {
          "base_uri": "https://localhost:8080/"
        }
      },
      "source": [
        "!pip install -U scikit-fuzzy"
      ],
      "execution_count": null,
      "outputs": [
        {
          "output_type": "stream",
          "text": [
            "Collecting scikit-fuzzy\n",
            "\u001b[?25l  Downloading https://files.pythonhosted.org/packages/6c/f0/5eb5dbe0fd8dfe7d4651a8f4e591a196623a22b9e5339101e559695b4f6c/scikit-fuzzy-0.4.2.tar.gz (993kB)\n",
            "\u001b[K     |████████████████████████████████| 1.0MB 2.8MB/s \n",
            "\u001b[?25hRequirement already satisfied, skipping upgrade: numpy>=1.6.0 in /usr/local/lib/python3.6/dist-packages (from scikit-fuzzy) (1.18.5)\n",
            "Requirement already satisfied, skipping upgrade: scipy>=0.9.0 in /usr/local/lib/python3.6/dist-packages (from scikit-fuzzy) (1.4.1)\n",
            "Requirement already satisfied, skipping upgrade: networkx>=1.9.0 in /usr/local/lib/python3.6/dist-packages (from scikit-fuzzy) (2.5)\n",
            "Requirement already satisfied, skipping upgrade: decorator>=4.3.0 in /usr/local/lib/python3.6/dist-packages (from networkx>=1.9.0->scikit-fuzzy) (4.4.2)\n",
            "Building wheels for collected packages: scikit-fuzzy\n",
            "  Building wheel for scikit-fuzzy (setup.py) ... \u001b[?25l\u001b[?25hdone\n",
            "  Created wheel for scikit-fuzzy: filename=scikit_fuzzy-0.4.2-cp36-none-any.whl size=894070 sha256=e864d87a5c0787aa81cdee2d4533969c49dced847a44d1ece57116e2ade34f47\n",
            "  Stored in directory: /root/.cache/pip/wheels/b9/4e/77/da79b16f64ef1738d95486e2731eea09d73e90a72465096600\n",
            "Successfully built scikit-fuzzy\n",
            "Installing collected packages: scikit-fuzzy\n",
            "Successfully installed scikit-fuzzy-0.4.2\n"
          ],
          "name": "stdout"
        }
      ]
    },
    {
      "cell_type": "code",
      "metadata": {
        "id": "5RjlQ1GjlgjN"
      },
      "source": [
        "import numpy as np\n",
        "import skfuzzy as fuzz\n",
        "from skfuzzy import control as ctrl\n",
        "\n",
        "# New Antecedent/Consequent objects hold universe variables and membership\n",
        "# functions\n",
        "suhu = ctrl.Antecedent(np.arange(-10, 51, 1), 'suhu')\n",
        "kelembaban = ctrl.Antecedent(np.arange(0, 71, 1), 'kelembaban')\n",
        "durasi = ctrl.Consequent(np.arange(0, 91, 1), 'durasi')\n",
        "\n",
        "# suhu\n",
        "suhu['dingin'] = fuzz.trapmf(suhu.universe, [-10,-10, 0, 3])\n",
        "suhu['sejuk'] = fuzz.trapmf(suhu.universe, [0, 3, 12, 15])\n",
        "suhu['normal'] = fuzz.trapmf(suhu.universe, [12, 15, 24, 27])\n",
        "suhu['hangat'] = fuzz.trapmf(suhu.universe, [24, 27, 36, 39])\n",
        "suhu['panas'] = fuzz.trapmf(suhu.universe, [36, 39, 50, 50])\n",
        "\n",
        "# kelembaban\n",
        "kelembaban['kering'] = fuzz.trapmf(kelembaban.universe, [0,0,10,20] )\n",
        "kelembaban['lembab'] = fuzz.trapmf(kelembaban.universe, [10,20,40,50])\n",
        "kelembaban['basah'] = fuzz.trapmf(kelembaban.universe, [40,50,70,70])\n",
        "\n",
        "# Custom membership functions can be built interactively with a familiar,\n",
        "# Pythonic API\n",
        "durasi['singkat'] = fuzz.trapmf(durasi.universe, [0, 0, 20, 28])\n",
        "durasi['sedang'] = fuzz.trapmf(durasi.universe, [20, 28, 40, 48])\n",
        "durasi['lama'] = fuzz.trapmf(durasi.universe, [40, 48, 90, 90])"
      ],
      "execution_count": null,
      "outputs": []
    },
    {
      "cell_type": "code",
      "metadata": {
        "id": "P2fOlVnMnfNe",
        "outputId": "f3e22413-b8f2-453f-916d-d6f490be59ee",
        "colab": {
          "base_uri": "https://localhost:8080/",
          "height": 809
        }
      },
      "source": [
        "suhu.view()\n",
        "kelembaban.view()\n",
        "durasi.view()"
      ],
      "execution_count": null,
      "outputs": [
        {
          "output_type": "display_data",
          "data": {
            "image/png": "[encoded data removed]",
            "text/plain": [
              "<Figure size 432x288 with 1 Axes>"
            ]
          },
          "metadata": {
            "tags": [],
            "needs_background": "light"
          }
        },
        {
          "output_type": "display_data",
          "data": {
            "image/png": "[encoded data removed]",
            "text/plain": [
              "<Figure size 432x288 with 1 Axes>"
            ]
          },
          "metadata": {
            "tags": [],
            "needs_background": "light"
          }
        },
        {
          "output_type": "display_data",
          "data": {
            "image/png": "[encoded data removed]",
            "text/plain": [
              "<Figure size 432x288 with 1 Axes>"
            ]
          },
          "metadata": {
            "tags": [],
            "needs_background": "light"
          }
        }
      ]
    },
    {
      "cell_type": "code",
      "metadata": {
        "id": "1WDcEARAteKs"
      },
      "source": [
        "rule1 = ctrl.Rule((kelembaban['kering'] & suhu['dingin']) |\n",
        "                  (kelembaban['kering'] & suhu['sejuk']) |\n",
        "                  (kelembaban['kering'] & suhu['normal']) |\n",
        "                  (kelembaban['kering'] & suhu['hangat']) |\n",
        "                  (kelembaban['kering'] & suhu['panas']),\n",
        "                  durasi['lama'])\n",
        "\n",
        "rule2 = ctrl.Rule((kelembaban['basah'] & suhu['dingin']) |\n",
        "                  (kelembaban['basah'] & suhu['sejuk']) |\n",
        "                  (kelembaban['basah'] & suhu['normal']) |\n",
        "                  (kelembaban['basah'] & suhu['hangat']) |\n",
        "                  (kelembaban['basah'] & suhu['panas']),\n",
        "                  durasi['singkat'])\n",
        "\n",
        "rule3 = ctrl.Rule((kelembaban['lembab'] & suhu['dingin']) |\n",
        "                  (kelembaban['lembab'] & suhu['sejuk']),\n",
        "                  durasi['singkat'])\n",
        "\n",
        "rule4 = ctrl.Rule((kelembaban['lembab'] & suhu['normal']) |\n",
        "                  (kelembaban['lembab'] & suhu['hangat']) |\n",
        "                  (kelembaban['lembab'] & suhu['panas']),\n",
        "                  durasi['sedang'])"
      ],
      "execution_count": null,
      "outputs": []
    },
    {
      "cell_type": "code",
      "metadata": {
        "id": "DYVCwVEkuRMK"
      },
      "source": [
        "sprikler_ctrl = ctrl.ControlSystem([rule1, rule2, rule3, rule4])\n",
        "sprikler = ctrl.ControlSystemSimulation(sprikler_ctrl)"
      ],
      "execution_count": null,
      "outputs": []
    },
    {
      "cell_type": "code",
      "metadata": {
        "id": "RmVC6tH2vw7G"
      },
      "source": [
        "sprikler.input['suhu'] = 37\n",
        "sprikler.input['kelembaban'] = 12\n",
        "\n",
        "# Crunch the numbers\n",
        "sprikler.compute()"
      ],
      "execution_count": null,
      "outputs": []
    },
    {
      "cell_type": "code",
      "metadata": {
        "id": "ogGB6e6CvxyC",
        "outputId": "3919dddb-2007-4ca8-c694-28f5fde9d2ba",
        "colab": {
          "base_uri": "https://localhost:8080/",
          "height": 298
        }
      },
      "source": [
        "print (\"Durasi penyiraman yang harus dilakukan oleh Sprinkler :\", round(sprikler.output['durasi'], 7), \"menit\")\n",
        "durasi.view(sim=sprikler)"
      ],
      "execution_count": null,
      "outputs": [
        {
          "output_type": "stream",
          "text": [
            "Durasi penyiraman yang harus dilakukan oleh Sprinkler : 62.3048481 menit\n"
          ],
          "name": "stdout"
        },
        {
          "output_type": "display_data",
          "data": {
            "image/png": "[encoded data removed]",
            "text/plain": [
              "<Figure size 432x288 with 1 Axes>"
            ]
          },
          "metadata": {
            "tags": [],
            "needs_background": "light"
          }
        }
      ]
    },
    {
      "cell_type": "code",
      "metadata": {
        "id": "3cmmVnUNsakF",
        "outputId": "c3078c77-244a-4e11-981a-d031028a942e",
        "colab": {
          "base_uri": "https://localhost:8080/"
        }
      },
      "source": [
        "# 45,46, 47\n",
        "sum = 0\n",
        "count = 0\n",
        "for i in range(43,48):\n",
        "# for i in range(0,3):\n",
        "  sum += i\n",
        "  count += 1\n",
        "\n",
        "print(sum,count)"
      ],
      "execution_count": null,
      "outputs": [
        {
          "output_type": "stream",
          "text": [
            "225 5\n"
          ],
          "name": "stdout"
        }
      ]
    }
  ]
}